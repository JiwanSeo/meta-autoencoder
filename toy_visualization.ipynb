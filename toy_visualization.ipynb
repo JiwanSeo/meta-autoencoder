{
 "cells": [
  {
   "cell_type": "code",
   "execution_count": 37,
   "metadata": {},
   "outputs": [],
   "source": [
    "import torch\n",
    "import argparse\n",
    "from data_gen.data_set import message_gen, channel_set_gen\n",
    "from training.train import test_training\n",
    "from training.test import test_per_channel_per_snr\n",
    "from nets.auto_encoder import dnn\n",
    "from torch.utils.tensorboard import SummaryWriter\n",
    "from nets.auto_encoder_for_vis import dnn_vis\n",
    "from training.meta_train import multi_task_learning\n",
    "import pickle\n",
    "import matplotlib.pyplot as plt\n",
    "import scipy.io as sio\n",
    "import datetime\n",
    "import numpy\n",
    "import os"
   ]
  },
  {
   "cell_type": "code",
   "execution_count": 38,
   "metadata": {},
   "outputs": [
    {
     "data": {
      "text/plain": [
       "_StoreTrueAction(option_strings=['--if_adam_after_sgd'], dest='if_adam_after_sgd', nargs=0, const=True, default=False, type=None, choices=None, help=None, metavar=None)"
      ]
     },
     "execution_count": 38,
     "metadata": {},
     "output_type": "execute_result"
    }
   ],
   "source": [
    "parser = argparse.ArgumentParser(description='end_to_end-meta')\n",
    "\n",
    "# bit num (k), channel uses (n), tap number (L), number of pilots (P), Eb/N0\n",
    "parser.add_argument('--bit_num', type=int, default=4, help='number of bits')\n",
    "parser.add_argument('--channel_num', type=int, default=4, help='number of channel uses')\n",
    "parser.add_argument('--tap_num', type=int, default=3, help='..')\n",
    "parser.add_argument('--mb_size', type=int, default=16, help='minibatch size')\n",
    "parser.add_argument('--mb_size_meta_train', type=int, default=16,\n",
    "                    help='minibatch size during meta-training (this can be useful for decreasing pilots)')\n",
    "parser.add_argument('--mb_size_meta_test', type=int, default=16,\n",
    "                    help='minibatch size for query set (this can be useful for decreasing pilots)')\n",
    "parser.add_argument('--Eb_over_N_db', type=float, default=15,\n",
    "                    help='energy per bit to noise power spectral density ratio')\n",
    "\n",
    "# paths\n",
    "parser.add_argument('--path_for_common_dir', dest='path_for_common_dir',\n",
    "                    default='default_folder/default_subfolder/', type=str)\n",
    "parser.add_argument('--path_for_meta_training_channels', dest='path_for_meta_training_channels', default=None,\n",
    "                    type=str)\n",
    "parser.add_argument('--path_for_test_channels', dest='path_for_test_channels', default=None, type=str)\n",
    "parser.add_argument('--path_for_meta_trained_net', dest='path_for_meta_trained_net', default=None, type=str)\n",
    "\n",
    "# neural network architecture (number of neurons for hidden layer)\n",
    "parser.add_argument('--num_neurons_encoder', type=int, default=None, help='number of neuron in hidden layer in encoder')\n",
    "parser.add_argument('--num_neurons_decoder', type=int, default=None, help='number of neuron in hidden layer in decoder')\n",
    "# whether to use bias and relu (if not relu: tanh)\n",
    "parser.add_argument('--if_not_bias', dest='if_bias', action='store_false', default=True)\n",
    "parser.add_argument('--if_not_relu', dest='if_relu', action='store_false', default=True)\n",
    "# RTN\n",
    "parser.add_argument('--if_RTN', dest='if_RTN', action='store_true', default=False)\n",
    "# in case of running on gpu, index for cuda device\n",
    "parser.add_argument('--cuda_ind', type=int, default=0, help='index for cuda device')\n",
    "\n",
    "# experiment details (hyperparameters, number of data for calculating performance and for meta-training\n",
    "parser.add_argument('--lr_testtraining', type=float, default=0.001, help='lr for adaptation to new channel')\n",
    "parser.add_argument('--lr_meta_update', type=float, default=0.01, help='lr during meta-training: outer loop (update initialization) lr')\n",
    "parser.add_argument('--lr_meta_inner', type=float, default=0.1, help='lr during meta-training: inner loop (local adaptation) lr')\n",
    "parser.add_argument('--test_size', type=int, default=1000000, help='number of messages to calculate BLER for test (new channel)')\n",
    "parser.add_argument('--num_channels_meta', type=int, default=100, help='number of meta-training channels (K)')\n",
    "parser.add_argument('--num_channels_test', type=int, default=20, help='number of new channels for test (to get average over BLER)')\n",
    "parser.add_argument('--tasks_per_metaupdate', type=int, default=20, help='number of meta-training channels considered in one meta-update')\n",
    "parser.add_argument('--num_meta_local_updates', type=int, default=1, help='number of local adaptation in meta-training')\n",
    "parser.add_argument('--num_epochs_meta_train', type=int, default=10000,\n",
    "                    help='number epochs for meta-training')\n",
    "\n",
    "# if run for joint training, if false: meta-learning\n",
    "parser.add_argument('--if_joint_training', dest='if_joint_training', action='store_true', default=False) # else: meta-learning for multi-task learning\n",
    "# whether to use Adam optimizer to adapt to a new channel\n",
    "parser.add_argument('--if_not_test_training_adam', dest='if_test_training_adam', action='store_false',\n",
    "                    default=True)\n",
    "# if run on toy example (Fig. 2 and 3)\n",
    "parser.add_argument('--if_toy', dest='if_toy', action='store_true',\n",
    "                    default=False)\n",
    "# to run on a more realistic example (Fig. 4)\n",
    "parser.add_argument('--if_RBF', dest='if_RBF', action='store_true',\n",
    "                    default=False)\n",
    "parser.add_argument('--test_per_adapt_fixed_Eb_over_N_value', type=int, default=15,\n",
    "                    help='Eb/N0 in db for test')\n",
    "# desinged for maml: sgd during args.num_meta_local_updates with args.lr_meta_inner and then follow Adam optimizer with args.lr_testtraining\n",
    "parser.add_argument('--if_adam_after_sgd', dest='if_adam_after_sgd', action='store_true',\n",
    "                    default=False)"
   ]
  },
  {
   "cell_type": "code",
   "execution_count": 39,
   "metadata": {},
   "outputs": [],
   "source": [
    "# common setting for toy\n",
    "run_script = \"--if_toy --num_epochs_meta_train 0 --path_for_common_dir toy/jupyter/\"\n"
   ]
  },
  {
   "cell_type": "code",
   "execution_count": 40,
   "metadata": {},
   "outputs": [
    {
     "name": "stdout",
     "output_type": "stream",
     "text": [
      "running for toy scenario\n",
      "Running on device: cuda:0\n"
     ]
    }
   ],
   "source": [
    "if __name__ == '__main__':\n",
    "    args = parser.parse_args(run_script.split())\n",
    "    args.device = torch.device(\"cuda:\" + str(args.cuda_ind) if torch.cuda.is_available() else \"cpu\")\n",
    "    if args.num_neurons_encoder == None: # unless specified, set number of hidden neurons to be same as the number of possible messages\n",
    "        args.num_neurons_encoder = pow(2,args.bit_num)\n",
    "    if args.num_neurons_decoder == None:\n",
    "        args.num_neurons_decoder = pow(2, args.bit_num)\n",
    "\n",
    "    if args.if_test_training_adam == False:\n",
    "        args.if_adam_after_sgd = False\n",
    "\n",
    "    if args.if_toy == True:\n",
    "        print('running for toy scenario')\n",
    "        args.bit_num = 2\n",
    "        args.channel_num = 1\n",
    "        args.tap_num = 1\n",
    "        args.mb_size = 4\n",
    "        args.mb_size_meta_train = 4\n",
    "        args.mb_size_meta_test = 4\n",
    "        args.num_channels_meta = 20\n",
    "        args.num_neurons_encoder = 4\n",
    "        args.num_neurons_decoder = 4\n",
    "    elif args.if_RBF == True:\n",
    "        print('running for a more realistic scenario')\n",
    "        args.bit_num = 4\n",
    "        args.channel_num = 4\n",
    "        args.tap_num = 3\n",
    "        args.mb_size = 16\n",
    "        args.mb_size_meta_train = 16\n",
    "        args.mb_size_meta_test = 16\n",
    "        args.num_channels_meta = 100\n",
    "        args.num_neurons_encoder = 16\n",
    "        args.num_neurons_decoder = 16\n",
    "    else:\n",
    "        print('running on custom environment')\n",
    "    print('Running on device: {}'.format(args.device))"
   ]
  },
  {
   "cell_type": "code",
   "execution_count": 41,
   "metadata": {},
   "outputs": [
    {
     "name": "stdout",
     "output_type": "stream",
     "text": [
      "generate meta-training channels\n",
      "start meta-training\n",
      "generate test channels\n",
      "used test channels [tensor([0.7071, 0.7071]), tensor([-0.7071,  0.7071]), tensor([0.7071, 0.7071]), tensor([-0.7071,  0.7071]), tensor([0.7071, 0.7071]), tensor([-0.7071,  0.7071]), tensor([0.7071, 0.7071]), tensor([-0.7071,  0.7071]), tensor([0.7071, 0.7071]), tensor([-0.7071,  0.7071]), tensor([0.7071, 0.7071]), tensor([-0.7071,  0.7071]), tensor([0.7071, 0.7071]), tensor([-0.7071,  0.7071]), tensor([0.7071, 0.7071]), tensor([-0.7071,  0.7071]), tensor([0.7071, 0.7071]), tensor([-0.7071,  0.7071]), tensor([0.7071, 0.7071]), tensor([-0.7071,  0.7071])]\n"
     ]
    }
   ],
   "source": [
    "    curr_time = datetime.datetime.now().strftime(\"%Y_%m_%d_%H_%M_%S\")\n",
    "    common_dir = './' + args.path_for_common_dir + curr_time + '/'\n",
    "\n",
    "    PATH_before_adapt = common_dir + 'saved_model/' + 'before_adapt/' + 'init_net'\n",
    "    PATH_meta_intermediate = common_dir + 'saved_model/' + 'during_meta_training/' + 'epochs/'\n",
    "\n",
    "    os.makedirs(common_dir + 'saved_model/' + 'before_adapt/')\n",
    "    os.makedirs(common_dir + 'saved_model/' + 'after_adapt/')\n",
    "    os.makedirs(PATH_meta_intermediate)\n",
    "\n",
    "    os.makedirs(common_dir + 'meta_training_channels/')\n",
    "    os.makedirs(common_dir + 'test_channels/')\n",
    "    os.makedirs(common_dir + 'test_result/')\n",
    "\n",
    "    dir_meta_training = common_dir + 'TB/' + 'meta_training'\n",
    "    writer_meta_training = SummaryWriter(dir_meta_training)\n",
    "    dir_during_adapt = common_dir + 'TB/' + 'during_adapt/'\n",
    "\n",
    "    test_Eb_over_N_range = [args.test_per_adapt_fixed_Eb_over_N_value]\n",
    "    test_adapt_range = [0, 1, 2, 5, 10, 100, 200, 1000, 10000]\n",
    "\n",
    "    if len(test_Eb_over_N_range) > 1:\n",
    "        assert len(test_adapt_range) == 1\n",
    "    if len(test_adapt_range) > 1:\n",
    "        assert len(test_Eb_over_N_range) == 1\n",
    "\n",
    "    test_result_all_PATH = common_dir + 'test_result/' + 'test_result.mat'\n",
    "    save_test_result_dict = {}\n",
    "\n",
    "    actual_channel_num = args.channel_num * 2\n",
    "\n",
    "    net = dnn(M=pow(2, args.bit_num), num_neurons_encoder=args.num_neurons_encoder, n=actual_channel_num, n_inv_filter = args.tap_num,\n",
    "              num_neurons_decoder=args.num_neurons_decoder, if_bias=args.if_bias, if_relu=args.if_relu, if_RTN=args.if_RTN)\n",
    "    if torch.cuda.is_available():\n",
    "        net = net.to(args.device)\n",
    "    net_for_testtraining = dnn(M=pow(2, args.bit_num), num_neurons_encoder=args.num_neurons_encoder, n=actual_channel_num, n_inv_filter = args.tap_num,\n",
    "              num_neurons_decoder=args.num_neurons_decoder, if_bias=args.if_bias, if_relu=args.if_relu, if_RTN=args.if_RTN)\n",
    "    if torch.cuda.is_available():\n",
    "        net_for_testtraining = net_for_testtraining.to(args.device)\n",
    "    net_for_vis = dnn(M=pow(2, args.bit_num), num_neurons_encoder=args.num_neurons_encoder, n=actual_channel_num,\n",
    "              n_inv_filter = args.tap_num,\n",
    "              num_neurons_decoder=args.num_neurons_decoder, if_bias=args.if_bias,\n",
    "              if_relu=args.if_relu, if_RTN=args.if_RTN)\n",
    "    if torch.cuda.is_available():\n",
    "        net_for_vis = net_for_vis.to(args.device)\n",
    "\n",
    "    Eb_over_N = pow(10, (args.Eb_over_N_db/10))\n",
    "    R = args.bit_num/args.channel_num\n",
    "    noise_var = 1 / (2 * R * Eb_over_N)\n",
    "    Noise = torch.distributions.multivariate_normal.MultivariateNormal(torch.zeros(actual_channel_num), noise_var * torch.eye(actual_channel_num))\n",
    "    if args.path_for_meta_training_channels is None:\n",
    "        print('generate meta-training channels')\n",
    "        h_list_meta = channel_set_gen(args.num_channels_meta, args.tap_num, args.if_toy)\n",
    "        h_list_meta_path = common_dir + 'meta_training_channels/' + 'training_channels.pckl'\n",
    "        f_meta_channels = open(h_list_meta_path, 'wb')\n",
    "        pickle.dump(h_list_meta, f_meta_channels)\n",
    "        f_meta_channels.close()\n",
    "    else:\n",
    "        print('load previously generated channels')\n",
    "        h_list_meta_path = args.path_for_meta_training_channels + '/' + 'training_channels.pckl'\n",
    "        f_meta_channels = open(h_list_meta_path, 'rb')\n",
    "        h_list_meta = pickle.load(f_meta_channels)\n",
    "        f_meta_channels.close()\n",
    "\n",
    "    if args.path_for_meta_trained_net is None:\n",
    "        if args.if_joint_training:\n",
    "            print('start joint training')\n",
    "        else:\n",
    "            print('start meta-training')\n",
    "        multi_task_learning(args, net, h_list_meta, writer_meta_training, Noise)\n",
    "        torch.save(net.state_dict(), PATH_before_adapt)\n",
    "    else:\n",
    "        PATH_before_adapt = args.path_for_meta_trained_net\n",
    "\n",
    "    if args.path_for_test_channels is None:\n",
    "        print('generate test channels')\n",
    "        h_list_test = channel_set_gen(args.num_channels_test, args.tap_num, args.if_toy)\n",
    "        h_list_test_path = common_dir + 'test_channels/' + 'test_channels.pckl'\n",
    "        f_test_channels = open(h_list_test_path, 'wb')\n",
    "        pickle.dump(h_list_test, f_test_channels)\n",
    "        f_test_channels.close()\n",
    "    else:\n",
    "        print('load previously generated channels')\n",
    "        h_list_test_path = args.path_for_test_channels + '/' + 'test_channels.pckl'\n",
    "        f_test_channels = open(h_list_test_path, 'rb')\n",
    "        h_list_test = pickle.load(f_test_channels)\n",
    "        f_test_channels.close()\n",
    "\n",
    "    if len(h_list_test) > args.num_channels_test:\n",
    "        h_list_test = h_list_test[:args.num_channels_test]\n",
    "    print('used test channels', h_list_test)"
   ]
  },
  {
   "cell_type": "code",
   "execution_count": 152,
   "metadata": {},
   "outputs": [],
   "source": [
    "num_adapt = 1 # training iteration number\n",
    "ind_channel = 0 # index of channel (wheter phase pi/4 (even idx) or 3pi/4 (odd idx))\n",
    "if_RTN = False # need to change this in order to switch between vanilla (False) and autoencoder with RTN (True)"
   ]
  },
  {
   "cell_type": "code",
   "execution_count": 153,
   "metadata": {},
   "outputs": [],
   "source": [
    "### vanilla\n",
    "# meta\n",
    "PATH_before_adapt_meta_vanilla = 'saved_data/toy/nets/vanilla/meta/init_net'\n",
    "PATH_after_adapt_meta_vanilla = 'saved_data/toy/after_adapted_to_new_channels_nets/vanilla/meta/after_adapt/' + str(num_adapt) + '_adapt_steps/' + str(ind_channel) + 'th_adapted_net' \n",
    "\n",
    "### with rtn\n",
    "# meta\n",
    "PATH_before_adapt_meta_rtn = 'saved_data/toy/nets/with_RTN/meta/init_net'\n",
    "PATH_after_adapt_meta_rtn = 'saved_data/toy/after_adapted_to_new_channels_nets/with_RTN/meta/after_adapt/' + str(num_adapt) + '_adapt_steps/' + str(ind_channel) + 'th_adapted_net' \n"
   ]
  },
  {
   "cell_type": "code",
   "execution_count": 154,
   "metadata": {},
   "outputs": [],
   "source": [
    "# choose appropriate path for visualization\n",
    "current_PATH = PATH_before_adapt_meta_vanilla\n",
    "#current_PATH = PATH_after_adapt_meta_vanilla\n",
    "#current_PATH = PATH_before_adapt_meta_rtn\n",
    "#current_PATH = PATH_after_adapt_meta_rtn\n",
    " \n",
    "net_for_vis = dnn_vis(M=pow(2, args.bit_num), num_neurons_encoder=args.num_neurons_encoder, n=actual_channel_num, n_inv_filter = args.tap_num,\n",
    "              num_neurons_decoder=args.num_neurons_decoder, if_bias=args.if_bias, if_relu=args.if_relu, if_RTN=if_RTN)\n",
    "if torch.cuda.is_available():\n",
    "    net_for_vis = net_for_vis.to(args.device)\n"
   ]
  },
  {
   "cell_type": "code",
   "execution_count": 155,
   "metadata": {},
   "outputs": [
    {
     "data": {
      "text/plain": [
       "<All keys matched successfully>"
      ]
     },
     "execution_count": 155,
     "metadata": {},
     "output_type": "execute_result"
    }
   ],
   "source": [
    "# load saved autoencoder\n",
    "net_for_vis.load_state_dict(torch.load(current_PATH))\n"
   ]
  },
  {
   "cell_type": "code",
   "execution_count": 156,
   "metadata": {},
   "outputs": [],
   "source": [
    "def message_gen_tmp(k, mb_size):\n",
    "    tot_message_num = pow(2,k)\n",
    "    m = torch.zeros(mb_size, tot_message_num)\n",
    "    label = torch.zeros(mb_size)\n",
    "    for ind_mb in range(mb_size):\n",
    "        if ind_mb % tot_message_num == 0:\n",
    "            pass\n",
    "            #rand_lst = torch.randperm(tot_message_num) # remove randomness for simpleness.\n",
    "        ind_one_rand_lst = ind_mb % tot_message_num\n",
    "        ind_one = ind_one_rand_lst\n",
    "        m[ind_mb, ind_one] = 1\n",
    "        label[ind_mb] = ind_one\n",
    "    return m, label"
   ]
  },
  {
   "cell_type": "code",
   "execution_count": 157,
   "metadata": {},
   "outputs": [],
   "source": [
    "# visualizing constellation points\n",
    "\n",
    "num_datapoints_transmitted = 1000\n",
    "h = h_list_test[ind_channel]\n",
    "artificial_input = None # for decision region, now should be None\n",
    "m_test, label_test = message_gen_tmp(args.bit_num, num_datapoints_transmitted)\n",
    "m_test = m_test.type(torch.FloatTensor).to(args.device)\n",
    "label_test = label_test.type(torch.LongTensor).to(args.device)\n",
    "net_for_vis.zero_grad()\n",
    "out_test, modulated_symbol, received_signal = net_for_vis(m_test, h, Noise, args.device,if_RTN, artificial_input)\n"
   ]
  },
  {
   "cell_type": "code",
   "execution_count": 158,
   "metadata": {},
   "outputs": [
    {
     "name": "stdout",
     "output_type": "stream",
     "text": [
      "h tensor([0.7071, 0.7071])\n"
     ]
    }
   ],
   "source": [
    "print('h', h)\n",
    "modulated_symbol = modulated_symbol.data.cpu().numpy()\n",
    "m_test = m_test.data.cpu().numpy()\n",
    "received_signal = received_signal.data.cpu().numpy()"
   ]
  },
  {
   "cell_type": "code",
   "execution_count": null,
   "metadata": {},
   "outputs": [],
   "source": []
  },
  {
   "cell_type": "code",
   "execution_count": 159,
   "metadata": {},
   "outputs": [
    {
     "data": {
      "image/png": "[encoded data removed]",
      "text/plain": [
       "<Figure size 432x432 with 1 Axes>"
      ]
     },
     "metadata": {
      "needs_background": "light"
     },
     "output_type": "display_data"
    }
   ],
   "source": [
    "\n",
    "fig, ax = plt.subplots(figsize=(6,6))\n",
    "xmin = -1.5\n",
    "xmax = 1.5\n",
    "ymin = -1.5\n",
    "ymax = 1.5\n",
    "ax.set_xlim([xmin,xmax])\n",
    "ax.set_ylim([ymin,ymax])\n",
    "color_list = ['r', 'g', 'b', 'k']\n",
    "for j in range(num_datapoints_transmitted):\n",
    "    c_ind = j%4\n",
    "    ax.scatter(modulated_symbol[j,0], modulated_symbol[j,1], c=color_list[c_ind], label = m_test[c_ind], s = 1000)\n",
    "ax.grid(True)\n",
    "plt.title('constellation points')\n",
    "plt.show()\n"
   ]
  },
  {
   "cell_type": "code",
   "execution_count": 160,
   "metadata": {},
   "outputs": [
    {
     "data": {
      "image/png": "[encoded data removed]",
      "text/plain": [
       "<Figure size 432x432 with 1 Axes>"
      ]
     },
     "metadata": {
      "needs_background": "light"
     },
     "output_type": "display_data"
    }
   ],
   "source": [
    "fig, ax = plt.subplots(figsize=(6,6))\n",
    "xmin = -1.5\n",
    "xmax = 1.5\n",
    "ymin = -1.5\n",
    "ymax = 1.5\n",
    "ax.set_xlim([xmin,xmax])\n",
    "ax.set_ylim([ymin,ymax])\n",
    "color_list = ['r', 'g', 'b', 'k']\n",
    "for j in range(num_datapoints_transmitted):\n",
    "    c_ind = j%4\n",
    "    ax.scatter(received_signal[j,0], received_signal[j,1], c=color_list[c_ind], label = m_test[c_ind])\n",
    "ax.grid(True)\n",
    "plt.title('received signal')\n",
    "plt.show()\n"
   ]
  },
  {
   "cell_type": "code",
   "execution_count": null,
   "metadata": {},
   "outputs": [],
   "source": []
  },
  {
   "cell_type": "code",
   "execution_count": 161,
   "metadata": {},
   "outputs": [
    {
     "data": {
      "image/png": "[encoded data removed]",
      "text/plain": [
       "<Figure size 432x432 with 1 Axes>"
      ]
     },
     "metadata": {
      "needs_background": "light"
     },
     "output_type": "display_data"
    }
   ],
   "source": [
    "# generating artificial recieved signal for visualizing decision region\n",
    "num_data_points = 100\n",
    "artificial_input = torch.zeros(num_data_points*num_data_points,2)\n",
    "\n",
    "real_min = -1.5\n",
    "real_max = 1.5\n",
    "im_min = -1.5\n",
    "im_max = 1.5\n",
    "\n",
    "for real_input in range(num_data_points):\n",
    "    for im_input in range(num_data_points):\n",
    "        artificial_input[real_input*num_data_points+im_input,0] = ((real_max-real_min)/(num_data_points-1)) * real_input + real_min\n",
    "        artificial_input[real_input*num_data_points+im_input,1] = ((im_max-im_min)/(num_data_points-1)) * im_input + im_min\n",
    "fig, ax = plt.subplots(figsize=(6,6))\n",
    "xmin = -1.5\n",
    "xmax = 1.5\n",
    "ymin = -1.5\n",
    "ymax = 1.5\n",
    "ax.set_xlim([xmin,xmax])\n",
    "ax.set_ylim([ymin,ymax])\n",
    "ax.scatter(artificial_input[:,0], artificial_input[:,1])\n",
    "plt.title('artificial received signal')\n",
    "ax.grid(True)\n",
    "plt.show()"
   ]
  },
  {
   "cell_type": "code",
   "execution_count": 162,
   "metadata": {},
   "outputs": [
    {
     "data": {
      "image/png": "[encoded data removed]",
      "text/plain": [
       "<Figure size 432x432 with 1 Axes>"
      ]
     },
     "metadata": {
      "needs_background": "light"
     },
     "output_type": "display_data"
    }
   ],
   "source": [
    "fig, ax = plt.subplots(figsize=(6,6))\n",
    "xmin = -1.5\n",
    "xmax = 1.5\n",
    "ymin = -1.5\n",
    "ymax = 1.5\n",
    "ax.set_xlim([xmin,xmax])\n",
    "ax.set_ylim([ymin,ymax])\n",
    "\n",
    "artificial_input = artificial_input.type(torch.FloatTensor).to(args.device)\n",
    "\n",
    "m_test, label_test = message_gen_tmp(args.bit_num, num_data_points*num_data_points)\n",
    "m_test = m_test.type(torch.FloatTensor).to(args.device)\n",
    "label_test = label_test.type(torch.LongTensor).to(args.device)\n",
    "out_test, modulated_symbol, received_signal = net_for_vis(m_test, h, Noise, args.device, if_RTN, artificial_input)\n",
    "artificial_input = artificial_input.data.cpu().numpy()\n",
    "color_list = ['r', 'g', 'b', 'k']\n",
    "for ind_datapoints in range(num_data_points*num_data_points):\n",
    "    ind_max = torch.argmax(out_test[ind_datapoints]).data.cpu().numpy()\n",
    "    ax.scatter(artificial_input[ind_datapoints, 0], artificial_input[ind_datapoints, 1], c=color_list[ind_max], label = m_ref[ind_max])\n",
    "plt.title('decision region')\n",
    "ax.grid(True)\n",
    "plt.show()"
   ]
  },
  {
   "cell_type": "code",
   "execution_count": null,
   "metadata": {},
   "outputs": [],
   "source": []
  },
  {
   "cell_type": "code",
   "execution_count": null,
   "metadata": {},
   "outputs": [],
   "source": []
  },
  {
   "cell_type": "code",
   "execution_count": null,
   "metadata": {},
   "outputs": [],
   "source": []
  },
  {
   "cell_type": "code",
   "execution_count": null,
   "metadata": {},
   "outputs": [],
   "source": []
  },
  {
   "cell_type": "code",
   "execution_count": null,
   "metadata": {},
   "outputs": [],
   "source": []
  }
 ],
 "metadata": {
  "kernelspec": {
   "display_name": "Python 3",
   "language": "python",
   "name": "python3"
  },
  "language_info": {
   "codemirror_mode": {
    "name": "ipython",
    "version": 3
   },
   "file_extension": ".py",
   "mimetype": "text/x-python",
   "name": "python",
   "nbconvert_exporter": "python",
   "pygments_lexer": "ipython3",
   "version": "3.7.4"
  }
 },
 "nbformat": 4,
 "nbformat_minor": 2
}
